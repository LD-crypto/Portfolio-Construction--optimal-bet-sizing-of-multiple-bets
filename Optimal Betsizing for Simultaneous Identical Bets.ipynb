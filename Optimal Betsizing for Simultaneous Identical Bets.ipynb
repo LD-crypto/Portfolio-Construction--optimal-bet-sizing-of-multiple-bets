{
 "cells": [
  {
   "cell_type": "markdown",
   "metadata": {},
   "source": [
    "# Optimal Betsizing for Simultaneous Identical Bets\n",
    "\n",
    "The ultimate goal of an investing, trading or betting system is to maximize the ending wealth of the user. The metric that a portfolio constructor should aim to optimize to reach this goal is the compound growth rate (CGR).\n",
    "\n",
    "This notebook will investigate a method and algorithm to estimate the optimal portfolio of bets to maximize the CGR.\n",
    "\n",
    "# Optimal Single Bet Size\n",
    "\n",
    "The Kelly Criterion is a well known method to calculate the optimal betsize of a bet with known porbabilities and payout.\n",
    "\n",
    "${K} = \\frac{P}{L} - \\frac{{1-P}}{W}$\n",
    "\n",
    "where K is the percentage of the portfolio/bankroll to allocate to the bet, P is the porbability that the bet wins, L is the percentage loss from losing and W is the percentage gain from winning.\n",
    "\n",
    "Another way to calculate the optimal bets size K is the start with the geometric expected value GEV of a bet and find the K that maximizes this geometric expectation. The geometric expected value is the exponent of the arethmetic mean of the log ending wealth of the outcomes.\n",
    "\n",
    "${GEV} = e^{ \\sum {P}_{i}\\ln{(1+{K}*{w}_{i})} }$\n",
    "\n",
    "Where P is the probability and w is the return of the outcome i. K is the betsize. This is the simplified version given the assumptions mentioned below.\n",
    "\n",
    "## A Toy Bet\n",
    "\n",
    "We are going to make some assumptions and state a toy bet to use for this analysis. The major assumptions are that all the outcomes of the bets independant and they all have the same probabilities and payout structure. This allows the for simplification of the problem. Each bet should now be allocated with the same amount of capital and the total amount allocated to all bets will be of size K.\n",
    "\n",
    "Now let us state the toy bet. The bet has two outcomes; a win with probability of P and payout of W; and a loss with probability 1-P and a payout of L.\n",
    "\n",
    "The examples to follow will be set to P = 0.9; W = 0.2; and L = -1.\n",
    "\n",
    "A loss of -1 means that when the bet loses the entire capital is lost. A real life example of this might be in a DeFi lending protocol where the interest is a fixed amount but there is a non-zero chance of hack, bugs, or scams that result in entire investment lost.\n",
    "\n",
    "\n",
    "## Kelly Criterion = Optimal K to maximize GEV\n",
    "\n",
    "In this section we will compute the optimal bet size for our toy bet using both the Kelly criterion equation aboce and the maximizing of the GEV. It will be shown that both result in the same value however maximizing the GEV can be generalized to include multiple bets as will be done.\n",
    "\n",
    "#### Kelly Criterion calculation\n",
    "The computation of the kelly criterion is very easy and is just given by the above equation."
   ]
  },
  {
   "cell_type": "code",
   "execution_count": 12,
   "metadata": {},
   "outputs": [
    {
     "name": "stdout",
     "output_type": "stream",
     "text": [
      "Kelly criterion optimal bet size K =  0.40000000000000013\n"
     ]
    }
   ],
   "source": [
    "P=0.9\n",
    "W=0.2\n",
    "L=1\n",
    "kelly = P/L - (1-P)/W\n",
    "print('Kelly criterion optimal bet size K = ',kelly)"
   ]
  },
  {
   "cell_type": "markdown",
   "metadata": {},
   "source": [
    "#### Maximizing GEV\n",
    "The method to maximize GEV requires the estimation of the joint probability distribution of the bets and the join payout distibution. With a single bet there are only two outcomes, ending wealths and probabilities. The GEV of a single bet is then:\n",
    "\n",
    "${GEV} = e^{ ( {0.1}*\\ln{(1-1*K)} + {0.9}*\\ln{1+0.2*K} )}$\n",
    "\n",
    "Next we differentiate GEV and find the value of K such that:\n",
    "\n",
    "$\\frac{dGEV}{dK} = 0$\n",
    "\n",
    "${K} = 0.4$\n",
    "\n",
    "As expected the optimal betsize that maximizes the GEV or in other words CGR of the portfolio is the same number that is given by the Kelly criterion.\n",
    "\n",
    "#### GEV and EV of Toy Bet\n",
    "\n",
    "Given the optimal bet size of 0.4 we can now compute the GEV of the optimal betting strategy and compare it to the expected value (EV) of the bet itself."
   ]
  },
  {
   "cell_type": "code",
   "execution_count": 17,
   "metadata": {},
   "outputs": [
    {
     "name": "stdout",
     "output_type": "stream",
     "text": [
      "GEV =  1.0183486804354382\n",
      "EV =  0.08000000000000002\n"
     ]
    }
   ],
   "source": [
    "import numpy as np\n",
    "gev = np.exp(0.1*np.log(1-1*0.4) + (0.9)*np.log(1+0.2*0.4))\n",
    "ev = 0.9*0.2 - 0.1\n",
    "print('GEV = ',gev)\n",
    "print('EV = ',ev)"
   ]
  },
  {
   "cell_type": "markdown",
   "metadata": {},
   "source": [
    "#### Never go All-in\n",
    "\n",
    "If a bet or investment has a non-zero chance ending with 0, i.e. a -100% loss then the optimal bet size will never be 100% of the porfolio regardless of the payout structure or probabilties. The GEV can also be represented as a geometric mean of the ending wealths of outcomes. Since that is a product if there is a 0 anywhere then the entire product becomes 0 and the geometric mean (CGR) of a bet will equal 0.\n",
    "\n",
    "The first lesson to be learned is to never go All-in. Using multiple identical but independant bets (each with a non-zero prob of -100% loss) will lower to probability of total portfolio loss however it will never reach probability of 0 and thus it is expected that the limit of K for infinite simultaneous toy bets is 1.0.\n",
    "\n",
    "# Optimal Bet Size for Multiple Bets\n",
    "\n",
    "The optimal bet sizing for multiple bets can be found using the maximizing the GEV approach. We will first use this method to calculate the optimal total bet size further examples of 2 bets and then 3 bets.\n",
    "\n",
    "## Sizing for 2 Bets\n",
    "\n",
    "With two independant bets we now have 4 potential outcomes, probabilties and payouts. The probabilities can be found simply by the joint probability of the two independant outcomes and the ending wealth for each is simply the average of the individual bets payouts. The total GEV of two toy bets is given below:\n",
    "\n",
    "${GEV} = e^{ ( {0.01}*\\ln{(1-1*K)} + 0.18*\\ln{(1-0.4*K)} + {0.81}*\\ln{1+0.2*K} )}$\n",
    "\n",
    "Differentiating this and equaling it to 0 we find K as:\n",
    "\n",
    "${K} = 0.7416$\n",
    "\n",
    "The GEV of the 2 bet portfolio given the optimal allocation can then be computed."
   ]
  },
  {
   "cell_type": "code",
   "execution_count": 20,
   "metadata": {},
   "outputs": [
    {
     "name": "stdout",
     "output_type": "stream",
     "text": [
      "GEV =  1.0357760803717997\n"
     ]
    }
   ],
   "source": [
    "K = 0.7416\n",
    "gev = np.exp( 0.01*np.log(1-1*K) + 0.18*np.log(1-0.4*K) + 0.81*np.log(1+0.2*K) )\n",
    "print('GEV = ',gev)"
   ]
  },
  {
   "cell_type": "markdown",
   "metadata": {},
   "source": [
    "## Sizing for 3 Bets\n",
    "\n",
    "With three independant bets we now have 8 potential outcomes, probabilties and payouts. The probabilities can be found simply by the joint probability of the two independant outcomes and the ending wealth for each is simply the average of the individual bets payouts. Due to the bets being identical the total outcomes simplify down to only 4 unique outomes. The total GEV of three toy bets is given below:\n",
    "\n",
    "${GEV} = e^{ ( {0.001}*\\ln{(1-1*K)} + 0.027*\\ln{(1-0.6*K)} + 0.243*\\ln{(1-0.2*K)} + 0.729*\\ln{(1+0.2*K)} )}$\n",
    "\n",
    "Differentiating this and equaling it to 0 we find K as:\n",
    "\n",
    "${K} = 0.9585$\n",
    "\n",
    "The GEV of the 3 bet portfolio given the optimal allocation can then be computed."
   ]
  },
  {
   "cell_type": "code",
   "execution_count": 21,
   "metadata": {},
   "outputs": [
    {
     "name": "stdout",
     "output_type": "stream",
     "text": [
      "GEV =  1.0511086867367478\n"
     ]
    }
   ],
   "source": [
    "K = 0.9585\n",
    "gev = np.exp( 0.001*np.log(1-1*K) + 0.027*np.log(1-0.6*K) + 0.243*np.log(1-0.2*K) + 0.729*np.log(1+0.2*K) )\n",
    "print('GEV = ',gev)"
   ]
  },
  {
   "cell_type": "markdown",
   "metadata": {},
   "source": [
    "## Generalizing Multiple Bets\n",
    "\n",
    "A couple of generalized observations can be made from examples given.\n",
    "\n",
    "As the number of bets grows toward infinity the GEV of the portfolio approaches the EV of the single bet and the total portfolio that should be allocated to the set of bets increases toward 1. This is not surprising as multipling the same bet effectively reduces the variance and risk down to 0.\n",
    "\n",
    "Next the approach itself has a dimensionality problem. The total combinations of possible ending wealths (the logs of which will be averaged) grows linearly with per bet outcome and exponentially with bet number.\n",
    "\n",
    "$ {N}_{ew} = {n}_{o}^{n}_{b} $\n",
    "\n",
    "Even with a moderate basket of 10 bets with 3 outcomes each this equals a total of 59,000 joint probabilities to be estimated.\n",
    "\n",
    "However in the toy example examined here the optimal K converged fast growing from 0.4 to 0.95 of total portfolio going from 1-3 bets. Similarly the going from 1 bet which generated a GEV of 1.018 which is 22% of the value of the EV limit to 3 bets generated a GEV of 1.051 which is 64% of the maximum EV. As with most diversification, such as seen with a modern portfolio theory, this greatest reductions in risk comes from the first few additional diversifiers."
   ]
  },
  {
   "cell_type": "code",
   "execution_count": null,
   "metadata": {},
   "outputs": [],
   "source": []
  }
 ],
 "metadata": {
  "kernelspec": {
   "display_name": "crypto_env",
   "language": "python",
   "name": "crypto_env"
  },
  "language_info": {
   "codemirror_mode": {
    "name": "ipython",
    "version": 3
   },
   "file_extension": ".py",
   "mimetype": "text/x-python",
   "name": "python",
   "nbconvert_exporter": "python",
   "pygments_lexer": "ipython3",
   "version": "3.6.4"
  }
 },
 "nbformat": 4,
 "nbformat_minor": 2
}
