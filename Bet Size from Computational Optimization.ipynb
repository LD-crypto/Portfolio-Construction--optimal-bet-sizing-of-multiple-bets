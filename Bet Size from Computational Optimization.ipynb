{
 "cells": [
  {
   "cell_type": "markdown",
   "metadata": {},
   "source": [
    "# Bet Size from Computational Optimization\n",
    "In the previous notebook \"Optimal Betsizing for Simultaneous Identical Bets\" it was shown how one can find the optimal bet size (K), and how it is equivilent to the Kelly optimal, by differentiating the geometric expected value equation of simultaneous bets. An alternative and computationally easier approach may be to just use a optimization algorithm to directly find the optimal bet that maximized the GEV equation. This notebook will attempt this alternative approach.\n",
    "\n",
    "## The Toy Discrete Problem\n",
    "\n",
    "The problem to be solved is to find the optimal bet size K and maximum GEV of N number of simultaneous and identical toy bets. The toy bets have two outcomes with payoffs W and L that are percentages of the bet size K.\n",
    "\n",
    "The proceedure will work as follows:\n",
    "- Get all ${2}^{N}$ combinations of outcomes\n",
    "- Compute the joint probabilities and ending wealths for each outcome\n",
    "- Construct GEV equation given the joint endingwealths\n",
    "- Find the K that miximises the GEV using an optimization algorithm\n",
    "\n",
    "The proceedure will be coded into a single function with parameters N, win_return, loss_return, win_probaility and outputs the K and max GEV. The sensitivities of the parameters can then be investigated.\n",
    "\n",
    "The first step is to get all combinations of length N with two outcomes. This can be done by interation and a representing the combination as a tuple all of which contained in a list. The code can be seen below."
   ]
  },
  {
   "cell_type": "code",
   "execution_count": 2,
   "metadata": {},
   "outputs": [
    {
     "name": "stdout",
     "output_type": "stream",
     "text": [
      "[(0.9, 0.9, 0.9), (0.9, 0.9, 0.1), (0.9, 0.1, 0.9), (0.9, 0.1, 0.1), (0.1, 0.9, 0.9), (0.1, 0.9, 0.1), (0.1, 0.1, 0.9), (0.1, 0.1, 0.1)]\n",
      "[(0.2, 0.2, 0.2), (0.2, 0.2, -1), (0.2, -1, 0.2), (0.2, -1, -1), (-1, 0.2, 0.2), (-1, 0.2, -1), (-1, -1, 0.2), (-1, -1, -1)]\n"
     ]
    }
   ],
   "source": [
    "import itertools as it\n",
    "# probabilities of outcomes are the win_prob and 1-win_prob\n",
    "probabilties = [0.9, 0.1]\n",
    "list_prob = list(it.product(probabilties, repeat=3))\n",
    "print(list_prob)\n",
    "# returns are [win_return, loss_return]\n",
    "returns = [0.2, -1]\n",
    "list_ret = list(it.product(returns, repeat=3))\n",
    "print(list_ret)"
   ]
  },
  {
   "cell_type": "markdown",
   "metadata": {},
   "source": [
    "The next steps are to compute the joint probabilities and returns for each combinations. The joint probsbilities are simply the product of the combinations probability. The return of the combination is just the average return of each bet."
   ]
  },
  {
   "cell_type": "code",
   "execution_count": 3,
   "metadata": {},
   "outputs": [
    {
     "name": "stdout",
     "output_type": "stream",
     "text": [
      "[0.7290000000000001, 0.08100000000000002, 0.08100000000000002, 0.009000000000000001, 0.08100000000000002, 0.009000000000000001, 0.009000000000000003, 0.0010000000000000002]\n"
     ]
    }
   ],
   "source": [
    "P = []\n",
    "for combo in list_prob:\n",
    "    product = 1\n",
    "    for ele in combo: \n",
    "        product *= ele\n",
    "    P.append(product)\n",
    "print(P)"
   ]
  },
  {
   "cell_type": "code",
   "execution_count": 4,
   "metadata": {},
   "outputs": [
    {
     "name": "stdout",
     "output_type": "stream",
     "text": [
      "[0.20000000000000004, -0.19999999999999998, -0.20000000000000004, -0.6, -0.20000000000000004, -0.6, -0.6, -1.0]\n"
     ]
    }
   ],
   "source": [
    "r =[]\n",
    "for combo in list_ret:\n",
    "    r.append(sum(combo)/3)\n",
    "print(r)"
   ]
  },
  {
   "cell_type": "markdown",
   "metadata": {},
   "source": [
    "Finally the joint returns and proabilities are to be represented as arrays and then put into the GEV equation that is to be maximized.\n",
    "\n",
    "${GEV} = e^{ \\sum {P}_{i}\\ln{(1+{K}*{r}_{i})} }$\n",
    "\n",
    "$P = [{P}_0, ... , {P}_{n}]$\n",
    "\n",
    "$r = [{r}_0, ... , {r}_{n}]$\n",
    "\n",
    "Where ${P}_{i}$ and ${r}_{i}$ are the probabilities and returns of the ${i}^{th}$ outcome combination of the N bets."
   ]
  },
  {
   "cell_type": "code",
   "execution_count": 5,
   "metadata": {},
   "outputs": [],
   "source": [
    "import numpy as np\n",
    "P = np.array(P)\n",
    "r = np.array(r)"
   ]
  },
  {
   "cell_type": "code",
   "execution_count": 6,
   "metadata": {},
   "outputs": [],
   "source": [
    "def GEV(K,_prob,_ret):\n",
    "    '''This function calculates the geometric expected value given the ending wealths of all outcomes\n",
    "    :param _prob: An array of all the probabilities of each outcome\n",
    "    :param _ret: An array of the return of each outcome\n",
    "    :param K: The betsize as a percentage of total portfolio alocated to all bets\n",
    "    :return: It returns the the GEV*-1. This is so a minimize algortithm can be used to find the optimal K\n",
    "    '''\n",
    "    summation = _prob*np.log(1+K*_ret)\n",
    "    gev = np.exp(sum(summation))\n",
    "    return -gev"
   ]
  },
  {
   "cell_type": "code",
   "execution_count": 11,
   "metadata": {},
   "outputs": [
    {
     "data": {
      "text/plain": [
       "-1.0511086867367478"
      ]
     },
     "execution_count": 11,
     "metadata": {},
     "output_type": "execute_result"
    }
   ],
   "source": [
    "# testing out the GEV function with known values. For the parameters used above and the optimal K of 0.9585 the GEV should equal 1.0511\n",
    "GEV(0.9585,P,r)"
   ]
  },
  {
   "cell_type": "markdown",
   "metadata": {},
   "source": [
    "### Optimizing the GEV\n",
    "\n",
    "Next we will try to find the optimal K for the GEV equation using scipy optimaztion algorithms. "
   ]
  },
  {
   "cell_type": "code",
   "execution_count": 9,
   "metadata": {},
   "outputs": [
    {
     "name": "stdout",
     "output_type": "stream",
     "text": [
      "Optimization terminated successfully.\n",
      "         Current function value: -1.051109\n",
      "         Iterations: 30\n",
      "         Function evaluations: 61\n"
     ]
    },
    {
     "name": "stderr",
     "output_type": "stream",
     "text": [
      "C:\\Users\\luciu\\Anaconda3\\lib\\site-packages\\ipykernel_launcher.py:8: RuntimeWarning: invalid value encountered in log\n",
      "  \n"
     ]
    },
    {
     "data": {
      "text/plain": [
       " final_simplex: (array([[0.95849557],\n",
       "       [0.95849558]]), array([-1.05110869, -1.05110869]))\n",
       "           fun: -1.0511086867436512\n",
       "       message: 'Optimization terminated successfully.'\n",
       "          nfev: 61\n",
       "           nit: 30\n",
       "        status: 0\n",
       "       success: True\n",
       "             x: array([0.95849557])"
      ]
     },
     "execution_count": 9,
     "metadata": {},
     "output_type": "execute_result"
    }
   ],
   "source": [
    "from scipy.optimize import minimize\n",
    "x0 = np.array([0.5])\n",
    "result = minimize(GEV, x0, method='nelder-mead',\n",
    "               args=(P, r), options={'xatol': 1e-8, 'disp': True})\n",
    "result"
   ]
  },
  {
   "cell_type": "markdown",
   "metadata": {},
   "source": [
    "The simplex minimzation algorthim found the optimal K for the parameters used throughout this notebook as expected. We have shown that this is a viable computational method for finding K. Now all that is left is to turn put all the pieces together into a function that takes a varied parameters.\n",
    "\n",
    "## Putting All the Pieces Together"
   ]
  },
  {
   "cell_type": "code",
   "execution_count": 12,
   "metadata": {},
   "outputs": [],
   "source": [
    "import itertools as it\n",
    "import numpy as np\n",
    "from scipy.optimize import minimize\n",
    "\n",
    "def getOptimalK(num_bets, win_return, loss_return, win_probability):\n",
    "    '''\n",
    "    This function finds the optimal bet size K for a number of identical and simultaneous bets.\n",
    "    :param num_bets: The integer number of simultaneous bets\n",
    "    :param win_return: The expected return of a single bet if it wins\n",
    "    :param loss_return: The expected loss of a single bet if it loses\n",
    "    :param win_probability: The single bet probability that a bet will win\n",
    "    :return: [K, GEV] K is the optimal betsize of the combined bets... \n",
    "                      GEV is the geometric expected value of all the bets using bet size K\n",
    "    '''\n",
    "    # Prevent dimensionality explosion\n",
    "    num_bets = min(num_bets, 20)\n",
    "    \n",
    "    # Get the list of outcome combinations of N bets\n",
    "    combo_prob = list(it.product([win_probability, 1-win_probability], repeat=num_bets))\n",
    "    combo_ret = list(it.product([win_return, loss_return], repeat=num_bets))\n",
    "    \n",
    "    # compute joint probabilties of outcomes\n",
    "    P = []\n",
    "    for combo in combo_prob:\n",
    "        product = 1\n",
    "        for i in combo: \n",
    "            product *= i\n",
    "        P.append(product)\n",
    "    P = np.array(P)\n",
    "    \n",
    "    #compute joint returns of outcomes\n",
    "    r =[]\n",
    "    for combo in combo_ret:\n",
    "        r.append(sum(combo)/num_bets)\n",
    "    r = np.array(r)\n",
    "    \n",
    "    # Find K that minimizes the GEV\n",
    "    x0 = np.array([0.5])\n",
    "    result = minimize(GEV, x0, method='nelder-mead', args=(P, r), options={'xatol': 1e-8, 'disp': True})\n",
    "    \n",
    "    return [result.final_simplex[0][0],-result.final_simplex[1][0]]  "
   ]
  },
  {
   "cell_type": "markdown",
   "metadata": {},
   "source": [
    "Finally we have test the completed optimizing function using the same outcome parameters and looking at n = 2, 3 and 4."
   ]
  },
  {
   "cell_type": "code",
   "execution_count": 13,
   "metadata": {},
   "outputs": [
    {
     "name": "stdout",
     "output_type": "stream",
     "text": [
      "Optimization terminated successfully.\n",
      "         Current function value: -1.035776\n",
      "         Iterations: 28\n",
      "         Function evaluations: 58\n",
      "Optimal results for 2 bets:  [array([0.74164376]), 1.035776080602608]\n"
     ]
    }
   ],
   "source": [
    "print('Optimal results for 2 bets: ',getOptimalK(2,0.2,-1,0.9))"
   ]
  },
  {
   "cell_type": "code",
   "execution_count": 14,
   "metadata": {},
   "outputs": [
    {
     "name": "stdout",
     "output_type": "stream",
     "text": [
      "Optimization terminated successfully.\n",
      "         Current function value: -1.051109\n",
      "         Iterations: 30\n",
      "         Function evaluations: 62\n",
      "Optimal results for 2 bets:  [array([0.95849557]), 1.0511086867436512]\n"
     ]
    },
    {
     "name": "stderr",
     "output_type": "stream",
     "text": [
      "C:\\Users\\luciu\\Anaconda3\\lib\\site-packages\\ipykernel_launcher.py:8: RuntimeWarning: invalid value encountered in log\n",
      "  \n"
     ]
    }
   ],
   "source": [
    "print('Optimal results for 2 bets: ',getOptimalK(3,0.2,-1,0.9))"
   ]
  },
  {
   "cell_type": "code",
   "execution_count": 15,
   "metadata": {},
   "outputs": [
    {
     "name": "stdout",
     "output_type": "stream",
     "text": [
      "Optimization terminated successfully.\n",
      "         Current function value: -1.060827\n",
      "         Iterations: 33\n",
      "         Function evaluations: 66\n",
      "Optimal results for 2 bets:  [array([0.99724693]), 1.0608265345424128]\n"
     ]
    },
    {
     "name": "stderr",
     "output_type": "stream",
     "text": [
      "C:\\Users\\luciu\\Anaconda3\\lib\\site-packages\\ipykernel_launcher.py:8: RuntimeWarning: invalid value encountered in log\n",
      "  \n"
     ]
    }
   ],
   "source": [
    "print('Optimal results for 2 bets: ',getOptimalK(4,0.2,-1,0.9))"
   ]
  },
  {
   "cell_type": "code",
   "execution_count": 19,
   "metadata": {},
   "outputs": [
    {
     "name": "stderr",
     "output_type": "stream",
     "text": [
      "C:\\Users\\luciu\\Anaconda3\\lib\\site-packages\\ipykernel_launcher.py:8: RuntimeWarning: invalid value encountered in log\n",
      "  \n"
     ]
    },
    {
     "name": "stdout",
     "output_type": "stream",
     "text": [
      "Optimization terminated successfully.\n",
      "         Current function value: -1.076885\n",
      "         Iterations: 51\n",
      "         Function evaluations: 102\n",
      "Optimal results for 2 bets:  [array([0.99999999]), 1.0768846720229204]\n"
     ]
    }
   ],
   "source": [
    "print('Optimal results for 2 bets: ',getOptimalK(20,0.2,-1,0.9))"
   ]
  },
  {
   "cell_type": "code",
   "execution_count": null,
   "metadata": {},
   "outputs": [],
   "source": []
  }
 ],
 "metadata": {
  "kernelspec": {
   "display_name": "Python 3",
   "language": "python",
   "name": "python3"
  },
  "language_info": {
   "codemirror_mode": {
    "name": "ipython",
    "version": 3
   },
   "file_extension": ".py",
   "mimetype": "text/x-python",
   "name": "python",
   "nbconvert_exporter": "python",
   "pygments_lexer": "ipython3",
   "version": "3.6.4"
  }
 },
 "nbformat": 4,
 "nbformat_minor": 2
}
