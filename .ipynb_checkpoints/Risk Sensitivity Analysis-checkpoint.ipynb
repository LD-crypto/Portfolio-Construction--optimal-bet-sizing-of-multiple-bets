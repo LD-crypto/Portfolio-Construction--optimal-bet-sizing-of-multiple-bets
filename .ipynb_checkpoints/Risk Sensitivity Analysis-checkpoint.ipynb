{
 "cells": [
  {
   "cell_type": "markdown",
   "metadata": {},
   "source": [
    "# Risk Sensitivity Analysis\n",
    "\n",
    "From the previous analysis it seems that the optimal bet size for multiple identical bets quickly converges to 99.99% of the portfolio being used. The optimal size for a single bet with specific paramters was found to be 40% and when 3 of the same bets are used the optimal size jumps to 95%.\n",
    "\n",
    "An obvious problem with this analysis is that one needs the exact payoff profile and probabilities of winning to find the optimal bet size. In the real world the payoffs and outcomes often have much more uncertainties. The sensitivty of the optimal size to various win_probabilties will be investigated here.\n",
    "\n",
    "The same Toy Bet as in previous notebooks will again be investigted. The Toy Bet is one in whch there is a binary outcome. The bet wins with some probabiltiy P, and when it wins the return is +20% on the bet size and when it loses the entire bet is lost resulting in a return of -100%. The win probabiltity will be set tp 0.90 +- 0.1. The optimal bet size (K) and the resulting geometric expected value (GEV) of multiple bets will be investigated over thos range.\n",
    "\n",
    "## Sensitity of K of a Single Bet\n",
    "\n",
    "We begin by computing the K and GEV for a single bet over the range of uncertain risk.\n",
    "\n",
    "Probability of loss $= [0.20:0.0]$"
   ]
  },
  {
   "cell_type": "code",
   "execution_count": 1,
   "metadata": {},
   "outputs": [],
   "source": [
    "win_probability = (range(80, 100, 1))"
   ]
  },
  {
   "cell_type": "code",
   "execution_count": 2,
   "metadata": {},
   "outputs": [],
   "source": [
    "import src.betsize as bs"
   ]
  },
  {
   "cell_type": "code",
   "execution_count": 9,
   "metadata": {},
   "outputs": [
    {
     "name": "stderr",
     "output_type": "stream",
     "text": [
      "C:\\Users\\luciu\\Work\\Multi-Bet Portfolio Construction and Optimal Bet sizing\\src\\betsize.py:50: RuntimeWarning: invalid value encountered in log\n",
      "  summation = _prob*np.log(1+K*_ret)\n"
     ]
    }
   ],
   "source": [
    "results_1b = [] # empty list that will contain results of\n",
    "for prob in win_probability:\n",
    "    [K,gev] = bs.getOptimalK(1, 0.2, -1, prob/100)\n",
    "    results_1b.append((prob/100,K,gev))"
   ]
  },
  {
   "cell_type": "code",
   "execution_count": 10,
   "metadata": {},
   "outputs": [
    {
     "data": {
      "text/plain": [
       "[(0.8, array([-0.2]), 1.0038139704876223),\n",
       " (0.81, array([-0.14000001]), 1.0018935860686935),\n",
       " (0.82, array([-0.08000002]), 1.000627090761249),\n",
       " (0.83, array([-0.02]), 1.0000397896719815),\n",
       " (0.84, array([0.03999999]), 1.000161756463234),\n",
       " (0.85, array([0.1]), 1.0010286845864993),\n",
       " (0.86, array([0.15999999]), 1.0026829722160238),\n",
       " (0.87, array([0.22]), 1.005175124054954),\n",
       " (0.88, array([0.28000001]), 1.0085655915452205),\n",
       " (0.89, array([0.34000001]), 1.012927233734802),\n",
       " (0.9, array([0.4]), 1.0183486804354382),\n",
       " (0.91, array([0.45999999]), 1.0249390483680993),\n",
       " (0.92, array([0.51999998]), 1.0328347620198066),\n",
       " (0.93, array([0.58000002]), 1.0422097969862563),\n",
       " (0.94, array([0.64000001]), 1.0532918013332881),\n",
       " (0.95, array([0.7]), 1.0663890365978266),\n",
       " (0.96, array([0.75999999]), 1.081939133945772),\n",
       " (0.97, array([0.82]), 1.1006077486295411),\n",
       " (0.98, array([0.88]), 1.1235251544575275),\n",
       " (0.99, array([0.94]), 1.153054377081044)]"
      ]
     },
     "execution_count": 10,
     "metadata": {},
     "output_type": "execute_result"
    }
   ],
   "source": [
    "results_1b"
   ]
  },
  {
   "cell_type": "markdown",
   "metadata": {},
   "source": [
    "The above result set indicates that the optimal bet size is very sensitive to the accuracy of the probabiltity. Just a single 1% difference in expected win probability results in a 6% difference in K. Another interesting observation is that the change in K is exactly 6% for every 1% increase or decrease in win probabiltity. It is a direct linear relationship.\n",
    "\n",
    "Due to this high linear relationship the optimal K can vary from 0% to 99% over a range of only +-10% in estimates of the win probabiltity. This is very sensitive. This analysis on its own cannot tell us much about the expected variance in GEV of the bet. However the x6 sensitivty may be helpful to use to investigate the GEV of the bet over a range of uncertainty in the actual win probabiltity while holding the K fixed. I.e. given our estimates of the bet structure (win probabiltity, payouts, etc.) and uncertainty we can estimate a K for the bet and then test to see the sensitivty of the GEV of this K given uncertainty estimates of the estimates of bet structure."
   ]
  },
  {
   "cell_type": "markdown",
   "metadata": {},
   "source": [
    "## Sensitivity of K of two Bets"
   ]
  },
  {
   "cell_type": "code",
   "execution_count": 11,
   "metadata": {},
   "outputs": [
    {
     "name": "stderr",
     "output_type": "stream",
     "text": [
      "C:\\Users\\luciu\\Work\\Multi-Bet Portfolio Construction and Optimal Bet sizing\\src\\betsize.py:50: RuntimeWarning: invalid value encountered in log\n",
      "  summation = _prob*np.log(1+K*_ret)\n"
     ]
    },
    {
     "data": {
      "text/plain": [
       "[(0.8, array([-0.39758682]), 1.0076181917345346),\n",
       " (0.81, array([-0.27910562]), 1.0037844758028835),\n",
       " (0.82, array([-0.15981865]), 1.0012538484285167),\n",
       " (0.83, array([-0.03999691]), 1.00007957782641),\n",
       " (0.84, array([0.07997265]), 1.0003234843938573),\n",
       " (0.85, array([0.19952517]), 1.0020560482497303),\n",
       " (0.86, array([0.31781797]), 1.0053555859332581),\n",
       " (0.87, array([0.4335741]), 1.0103054724290004),\n",
       " (0.88, array([0.54485536]), 1.0169875127002326),\n",
       " (0.89, array([0.64881078]), 1.0254684058381707),\n",
       " (0.9, array([0.74164376]), 1.035776080602608),\n",
       " (0.91, array([0.81935225]), 1.0478677814215542),\n",
       " (0.92, array([0.87951846]), 1.0616060485466243),\n",
       " (0.93, array([0.92280672]), 1.0767673964022424),\n",
       " (0.94, array([0.95235602]), 1.093083420913535),\n",
       " (0.95, array([0.97189621]), 1.1102812615974273),\n",
       " (0.96, array([0.98451423]), 1.1280999105823926),\n",
       " (0.97, array([0.99239936]), 1.1462849427478883),\n",
       " (0.98, array([0.99701637]), 1.164569637753554),\n",
       " (0.99, array([0.9993341]), 1.1826380520463875)]"
      ]
     },
     "execution_count": 11,
     "metadata": {},
     "output_type": "execute_result"
    }
   ],
   "source": [
    "results_2b = [] # empty list that will contain results of\n",
    "for prob in win_probability:\n",
    "    [K,gev] = bs.getOptimalK(2, 0.2, -1, prob/100)\n",
    "    results_2b.append((prob/100,K,gev))\n",
    "results_2b"
   ]
  },
  {
   "cell_type": "markdown",
   "metadata": {},
   "source": [
    "## Sensitivity of K of Four Bets"
   ]
  },
  {
   "cell_type": "code",
   "execution_count": 13,
   "metadata": {},
   "outputs": [
    {
     "name": "stderr",
     "output_type": "stream",
     "text": [
      "C:\\Users\\luciu\\Work\\Multi-Bet Portfolio Construction and Optimal Bet sizing\\src\\betsize.py:50: RuntimeWarning: invalid value encountered in log\n",
      "  summation = _prob*np.log(1+K*_ret)\n"
     ]
    },
    {
     "data": {
      "text/plain": [
       "[(0.8, array([-0.78545761]), 1.0151959665516328),\n",
       " (0.81, array([-0.55461631]), 1.007557957838746),\n",
       " (0.82, array([-0.31891003]), 1.002506355183793),\n",
       " (0.83, array([-0.07998142]), 1.0001591495796052),\n",
       " (0.84, array([0.15983582]), 1.000646854391874),\n",
       " (0.85, array([0.39712834]), 1.0041067181452625),\n",
       " (0.86, array([0.62646894]), 1.0106672029517065),\n",
       " (0.87, array([0.83640385]), 1.0203991389393179),\n",
       " (0.88, array([0.9710102]), 1.0329964139968668),\n",
       " (0.89, array([0.99309685]), 1.046820427862514),\n",
       " (0.9, array([0.99724693]), 1.0608265345424128),\n",
       " (0.91, array([0.99871848]), 1.074857734991702),\n",
       " (0.92, array([0.99937634]), 1.0888756914771625),\n",
       " (0.93, array([0.99969888]), 1.1028662904154638),\n",
       " (0.94, array([0.99986119]), 1.1168245048244039),\n",
       " (0.95, array([0.99994135]), 1.1307498701302092),\n",
       " (0.96, array([0.99997855]), 1.1446445616011327),\n",
       " (0.97, array([0.99999385]), 1.1585123306064153),\n",
       " (0.98, array([0.99999889]), 1.1723577574212602),\n",
       " (0.99, array([0.99999993]), 1.1861855901450709)]"
      ]
     },
     "execution_count": 13,
     "metadata": {},
     "output_type": "execute_result"
    }
   ],
   "source": [
    "results_4b = [] # empty list that will contain results of\n",
    "for prob in win_probability:\n",
    "    [K,gev] = bs.getOptimalK(4, 0.2, -1, prob/100)\n",
    "    results_4b.append((prob/100,K,gev))\n",
    "results_4b"
   ]
  },
  {
   "cell_type": "markdown",
   "metadata": {},
   "source": [
    "When increasing the number of simultaneous bets the optimal K increases closer to 1. And given that the EV of the bet at ~0.835 win probability becomes 0 it is expected to find the optimal K at this level to also be 0. This the sensitivty and estimate of the optimal K becomes asymmetric and non-linear.\n",
    "\n",
    "The next step is to consider the range of GEV that is to be expected given a selected bet size ${K}_{i}$ over an uncertain range of win probabiltities.\n",
    "\n",
    "Finally can we find a general procedure or hueristic to find K over a given uncertainty in estimates that maximizes GEV. I.e. What maximizes our portfolio GEV more, given the uncertainty of win probabiltity and sensivity in K, using the optimal K or using a ${K}^{*}$ that is a modification to K that is a function of the sensitivty? And how do we compute or estimate the function of ${K}^{*}$?\n",
    "\n",
    "## Sensitivity of GEV\n",
    "\n",
    "Here will calculate the GEV of a portfolio of identical and simultaneoud bets of a given bet size over a range of win probabilties. This is in practice the sensitivty one really cares about. In general when selecting a bet size one cares about the GEV and how sensitive it is to inputs of K and win probabiltity. It is likely that the larger the uncertainty in probabiltity estimates the smaller the bet size should be used. Smaller bet sizes result in lower GEV but also a lower potential loss if the actual win probababilty of the bet results in a negative EV.\n",
    "\n",
    "... To be continued"
   ]
  },
  {
   "cell_type": "code",
   "execution_count": null,
   "metadata": {},
   "outputs": [],
   "source": []
  }
 ],
 "metadata": {
  "kernelspec": {
   "display_name": "Python 3",
   "language": "python",
   "name": "python3"
  },
  "language_info": {
   "codemirror_mode": {
    "name": "ipython",
    "version": 3
   },
   "file_extension": ".py",
   "mimetype": "text/x-python",
   "name": "python",
   "nbconvert_exporter": "python",
   "pygments_lexer": "ipython3",
   "version": "3.6.4"
  }
 },
 "nbformat": 4,
 "nbformat_minor": 2
}
